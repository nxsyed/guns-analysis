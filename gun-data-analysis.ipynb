{
 "cells": [
  {
   "cell_type": "markdown",
   "metadata": {},
   "source": [
    "# Examining Data of Gun Related Incidents\n",
    "I've taken the compiled and cleaned data provided by https://github.com/fivethirtyeight/guns-data and tried analyze it.\n",
    "\n",
    "first, I begin by reading the file, and converting it into a list."
   ]
  },
  {
   "cell_type": "code",
   "execution_count": 39,
   "metadata": {
    "collapsed": true
   },
   "outputs": [],
   "source": [
    "import csv\n",
    "import datetime\n",
    "from __future__ import division\n",
    "\n",
    "year_counts = {}\n",
    "date_counts = {}\n",
    "sex_counts = {}\n",
    "race_counts = {}\n",
    "rate = 100000\n",
    "\n",
    "ofile = csv.reader(open(\"guns-data.csv\", 'r'))\n",
    "data = list(ofile)\n"
   ]
  },
  {
   "cell_type": "markdown",
   "metadata": {},
   "source": [
    "I realize that the data contains headers, so I seperate the top row.\n",
    "Once that's done, I take the the data from all the coloumns I want to analyze and assign it to their respective variables."
   ]
  },
  {
   "cell_type": "code",
   "execution_count": 40,
   "metadata": {},
   "outputs": [],
   "source": [
    "headers = data[0]\n",
    "data = data[1:]\n",
    "\n",
    "years = [row[1] for row in data]\n",
    "dates = [datetime.datetime(year=int(row[1]), month=int(row[2]), day=1) for row in data]\n",
    "race = [row[7] for row in data]\n",
    "sex = [row[5] for row in data]"
   ]
  },
  {
   "cell_type": "markdown",
   "metadata": {
    "collapsed": true
   },
   "source": [
    "My intention now is to tally all the data in related to the coloumn info. When working with it earlier, I realized that it might be a repetitive task, so I created a generaly function which took in the coloumn data as a parameter and assigned the tallies to a dictionary.The function then returns the dictionary which could be assigned to a properly named variable outside the function. "
   ]
  },
  {
   "cell_type": "code",
   "execution_count": 41,
   "metadata": {
    "collapsed": true
   },
   "outputs": [],
   "source": [
    "def tally_coloumn(coloumn_list):\n",
    "    tally_dict = {}\n",
    "    for row in coloumn_list:\n",
    "        if row not in tally_dict:\n",
    "            tally_dict[row] = 1\n",
    "        else:\n",
    "            tally_dict[row] += 1\n",
    "    return tally_dict\n",
    "\n",
    "year_counts = tally_coloumn(years)\n",
    "date_counts = tally_coloumn(dates)\n",
    "race_counts = tally_coloumn(race)\n",
    "sex_counts = tally_coloumn(sex)"
   ]
  },
  {
   "cell_type": "code",
   "execution_count": 51,
   "metadata": {},
   "outputs": [
    {
     "name": "stdout",
     "output_type": "stream",
     "text": [
      "[['cen42010', 'April 1, 2010 Census', 'totsex', 'Both Sexes', 'tothisp', 'Total', '0100000US', '', 'United States', '308745538', '197318956', '44618105', '40250635', '3739506', '15159516', '674625', '6984195']]\n",
      "197318956.0\n"
     ]
    }
   ],
   "source": [
    "census_ofile = csv.reader(open(\"census.csv\", 'r'))\n",
    "census_data = list(census_ofile)[1:]\n",
    "print(census_data)\n",
    "mappings = {\n",
    "    'Asian/Pacific Islander': float(census_data[0][14]+ census_data[0][15]),\n",
    "    'Black': float(census_data[0][12]),\n",
    "    'Native American/Native Alaskan': float(census_data[0][13]),\n",
    "    'Hispanic': float(census_data[0][11]),\n",
    "    'White': float(census_data[0][10])\n",
    "}\n",
    "print(mappings['White'])"
   ]
  },
  {
   "cell_type": "code",
   "execution_count": 53,
   "metadata": {},
   "outputs": [
    {
     "name": "stdout",
     "output_type": "stream",
     "text": [
      "33.5684930342\n"
     ]
    }
   ],
   "source": [
    "white_gun_death_rate_perhunK = race_counts['White'] / mappings['White'] * rate\n",
    "print(white_gun_death_rate_perhunK)"
   ]
  },
  {
   "cell_type": "code",
   "execution_count": null,
   "metadata": {
    "collapsed": true
   },
   "outputs": [],
   "source": []
  }
 ],
 "metadata": {
  "kernelspec": {
   "display_name": "Python 2",
   "language": "python",
   "name": "python2"
  },
  "language_info": {
   "codemirror_mode": {
    "name": "ipython",
    "version": 2
   },
   "file_extension": ".py",
   "mimetype": "text/x-python",
   "name": "python",
   "nbconvert_exporter": "python",
   "pygments_lexer": "ipython2",
   "version": "2.7.12"
  }
 },
 "nbformat": 4,
 "nbformat_minor": 2
}
