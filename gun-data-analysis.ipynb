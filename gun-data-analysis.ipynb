{
 "cells": [
  {
   "cell_type": "markdown",
   "metadata": {},
   "source": [
    "# Examining Data of Gun Related Incidents\n",
    "I've taken the compiled and cleaned data provided by https://github.com/fivethirtyeight/guns-data and tried analyze it.\n",
    "\n",
    "first, I begin by reading the file, and converting it into a list."
   ]
  },
  {
   "cell_type": "code",
   "execution_count": 139,
   "metadata": {
    "collapsed": true
   },
   "outputs": [],
   "source": [
    "import csv\n",
    "import datetime\n",
    "from __future__ import division\n",
    "import matplotlib.pyplot as plt\n",
    "\n",
    "year_counts = {}\n",
    "date_counts = {}\n",
    "sex_counts = {}\n",
    "race_counts = {}\n",
    "intent_counts = {}\n",
    "homicide_race_counts = {}\n",
    "race_per_hunK= {}\n",
    "rate = 100000\n",
    "\n",
    "ofile = csv.reader(open(\"guns-data.csv\", 'r'))\n",
    "data = list(ofile)\n"
   ]
  },
  {
   "cell_type": "markdown",
   "metadata": {},
   "source": [
    "I realize that the data contains headers, so I seperate the top row.\n",
    "Once that's done, I take the the data from all the coloumns I want to analyze and assign it to their respective variables."
   ]
  },
  {
   "cell_type": "code",
   "execution_count": 120,
   "metadata": {},
   "outputs": [
    {
     "data": {
      "text/plain": [
       "['White',\n",
       " 'Native American/Native Alaskan',\n",
       " 'White',\n",
       " 'Black',\n",
       " 'White',\n",
       " 'Native American/Native Alaskan',\n",
       " 'White',\n",
       " 'Native American/Native Alaskan',\n",
       " 'White',\n",
       " 'Native American/Native Alaskan']"
      ]
     },
     "execution_count": 120,
     "metadata": {},
     "output_type": "execute_result"
    }
   ],
   "source": [
    "headers = data[0]\n",
    "data = data[1:]\n",
    "\n",
    "years = [row[1] for row in data]\n",
    "dates = [datetime.datetime(year=int(row[1]), month=int(row[2]), day=1) for row in data]\n",
    "race = [row[7] for row in data]\n",
    "intents = [row[3] for row in data]\n",
    "sex = [row[5] for row in data]\n",
    "# Sample\n",
    "race[:10]"
   ]
  },
  {
   "cell_type": "markdown",
   "metadata": {
    "collapsed": true
   },
   "source": [
    "My intention now is to tally all the data in related to the coloumn info. When working with it earlier, I realized that it might be a repetitive task, so I created a generaly function which took in the coloumn data as a parameter and assigned the tallies to a dictionary.The function then returns the dictionary which could be assigned to a properly named variable outside the function. "
   ]
  },
  {
   "cell_type": "code",
   "execution_count": 150,
   "metadata": {},
   "outputs": [
    {
     "data": {
      "text/plain": [
       "{'Asian/Pacific Islander': 1325,\n",
       " 'Black': 23296,\n",
       " 'Hispanic': 9022,\n",
       " 'Native American/Native Alaskan': 916,\n",
       " 'White': 66233}"
      ]
     },
     "execution_count": 150,
     "metadata": {},
     "output_type": "execute_result"
    }
   ],
   "source": [
    "def tally_coloumn(coloumn_list):\n",
    "    tally_dict = {}\n",
    "    for row in coloumn_list:\n",
    "        if row not in tally_dict:\n",
    "            tally_dict[row] = 1\n",
    "        else:\n",
    "            tally_dict[row] += 1\n",
    "    return tally_dict\n",
    "\n",
    "year_counts = tally_coloumn(years)\n",
    "date_counts = tally_coloumn(dates)\n",
    "race_counts = tally_coloumn(race)\n",
    "sex_counts = tally_coloumn(sex)\n",
    "intents_counts = tally_coloumn(intents)\n",
    "# Sample\n",
    "race_counts"
   ]
  },
  {
   "cell_type": "markdown",
   "metadata": {},
   "source": [
    "I realized after that I wanted to get the rate of incidents in relation to the population, so I downloaded the census data csv file and read it. I then mapped the values to the appropriate race/group."
   ]
  },
  {
   "cell_type": "code",
   "execution_count": 113,
   "metadata": {},
   "outputs": [
    {
     "name": "stdout",
     "output_type": "stream",
     "text": [
      "[['cen42010', 'April 1, 2010 Census', 'totsex', 'Both Sexes', 'tothisp', 'Total', '0100000US', '', 'United States', '308745538', '197318956', '44618105', '40250635', '3739506', '15159516', '674625', '6984195']]\n"
     ]
    },
    {
     "data": {
      "text/plain": [
       "197318956.0"
      ]
     },
     "execution_count": 113,
     "metadata": {},
     "output_type": "execute_result"
    }
   ],
   "source": [
    "census_ofile = csv.reader(open(\"census.csv\", 'r'))\n",
    "census_data = list(census_ofile)[1:]\n",
    "print(census_data)\n",
    "mappings = {\n",
    "    'Asian/Pacific Islander': float(census_data[0][14]+ census_data[0][15]),\n",
    "    'Black': float(census_data[0][12]),\n",
    "    'Native American/Native Alaskan': float(census_data[0][13]),\n",
    "    'Hispanic': float(census_data[0][11]),\n",
    "    'White': float(census_data[0][10])\n",
    "}\n",
    "mappings['White']"
   ]
  },
  {
   "cell_type": "code",
   "execution_count": 122,
   "metadata": {},
   "outputs": [
    {
     "data": {
      "text/plain": [
       "33.566465859468664"
      ]
     },
     "execution_count": 122,
     "metadata": {},
     "output_type": "execute_result"
    }
   ],
   "source": [
    "white_gun_death_rate_perhunK = race_counts['White'] / mappings['White'] * rate\n",
    "white_gun_death_rate_perhunK"
   ]
  },
  {
   "cell_type": "code",
   "execution_count": 115,
   "metadata": {},
   "outputs": [
    {
     "data": {
      "text/plain": [
       "{'Asian/Pacific Islander': 8.746980714890115e-06,\n",
       " 'Black': 57.8773477735196,\n",
       " 'Hispanic': 20.220491210910907,\n",
       " 'Native American/Native Alaskan': 24.521955573811088,\n",
       " 'White': 33.56849303419181}"
      ]
     },
     "execution_count": 115,
     "metadata": {},
     "output_type": "execute_result"
    }
   ],
   "source": [
    "for race in race_counts:\n",
    "    race_per_hunK[race] = race_counts[race] / mappings[race] * rate\n",
    "race_per_hunK\n",
    "\n",
    "    "
   ]
  },
  {
   "cell_type": "code",
   "execution_count": 133,
   "metadata": {},
   "outputs": [
    {
     "data": {
      "text/plain": [
       "{'Asian/Pacific Islander': 744,\n",
       " 'Black': 3332,\n",
       " 'Hispanic': 3171,\n",
       " 'Native American/Native Alaskan': 554,\n",
       " 'White': 55368}"
      ]
     },
     "execution_count": 133,
     "metadata": {},
     "output_type": "execute_result"
    }
   ],
   "source": [
    "def compare_count(compare_list, iterable_list, compare_str):   \n",
    "    return_dict = {}\n",
    "    for i, row in enumerate(iterable_list):\n",
    "        if row not in return_dict:\n",
    "            return_dict[row] = 0\n",
    "        if intents[i] == compare_str:\n",
    "            return_dict[row] += 1\n",
    "            \n",
    "    return return_dict\n",
    "homicide_race_counts = compare_count(intents, race, \"Homicide\")\n",
    "suicide_race_counts = compare_count(intents, race, \"Suicide\")\n",
    "\n",
    "suicide_race_counts"
   ]
  },
  {
   "cell_type": "code",
   "execution_count": 134,
   "metadata": {},
   "outputs": [
    {
     "data": {
      "text/plain": [
       "{'Asian/Pacific Islander': 3.687452654316421e-06,\n",
       " 'Black': 48.471284987180944,\n",
       " 'Hispanic': 12.627161104219914,\n",
       " 'Native American/Native Alaskan': 8.717729026240365,\n",
       " 'White': 4.6356417981453335}"
      ]
     },
     "execution_count": 134,
     "metadata": {},
     "output_type": "execute_result"
    }
   ],
   "source": [
    "for i, val in homicide_race_counts.items():\n",
    "    race_per_hunK[i] = val / mappings[i] * rate\n",
    "race_per_hunK"
   ]
  },
  {
   "cell_type": "code",
   "execution_count": 137,
   "metadata": {},
   "outputs": [
    {
     "data": {
      "text/plain": [
       "{'Asian/Pacific Islander': 4.907808183920245e-06,\n",
       " 'Black': 8.278130270491385,\n",
       " 'Hispanic': 7.106980451097149,\n",
       " 'Native American/Native Alaskan': 14.814791044592523,\n",
       " 'White': 28.060152517733776}"
      ]
     },
     "execution_count": 137,
     "metadata": {},
     "output_type": "execute_result"
    }
   ],
   "source": [
    "for i, val in suicide_race_counts.items():\n",
    "    race_per_hunK[i] = val / mappings[i] * rate\n",
    "race_per_hunK"
   ]
  },
  {
   "cell_type": "code",
   "execution_count": 145,
   "metadata": {},
   "outputs": [
    {
     "data": {
      "image/png": "[encoded data removed]",
      "text/plain": [
       "<matplotlib.figure.Figure at 0x7fe08776d110>"
      ]
     },
     "metadata": {},
     "output_type": "display_data"
    }
   ],
   "source": [
    "plt.bar(range(len(race_per_hunK)), race_per_hunK.values(), align='center')\n",
    "plt.xticks(range(len(race_per_hunK)), race_per_hunK.keys())\n",
    "\n",
    "plt.show()"
   ]
  },
  {
   "cell_type": "code",
   "execution_count": null,
   "metadata": {
    "collapsed": true
   },
   "outputs": [],
   "source": []
  }
 ],
 "metadata": {
  "kernelspec": {
   "display_name": "Python 2",
   "language": "python",
   "name": "python2"
  },
  "language_info": {
   "codemirror_mode": {
    "name": "ipython",
    "version": 2
   },
   "file_extension": ".py",
   "mimetype": "text/x-python",
   "name": "python",
   "nbconvert_exporter": "python",
   "pygments_lexer": "ipython2",
   "version": "2.7.12"
  }
 },
 "nbformat": 4,
 "nbformat_minor": 2
}
